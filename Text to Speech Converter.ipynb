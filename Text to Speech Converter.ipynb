{
 "cells": [
  {
   "cell_type": "code",
   "execution_count": 1,
   "id": "f88bbb21",
   "metadata": {},
   "outputs": [],
   "source": [
    "import tkinter as tk\n",
    "from tkinter import *\n",
    "from tkinter import filedialog\n",
    "from tkinter.ttk import Combobox\n",
    "import pyttsx3\n",
    "import os\n",
    "from gtts import gTTS\n",
    "from playsound import playsound"
   ]
  },
  {
   "cell_type": "code",
   "execution_count": 2,
   "id": "47368a6d",
   "metadata": {},
   "outputs": [],
   "source": [
    "root = Tk()\n",
    "root.title(\"Text to speed converter\")\n",
    "root.geometry(\"1000x580\")\n",
    "root.resizable(False,False)\n",
    "root.configure(bg='#FCD0D7')"
   ]
  },
  {
   "cell_type": "code",
   "execution_count": 3,
   "id": "2b9765af",
   "metadata": {},
   "outputs": [],
   "source": [
    "tts = pyttsx3.init()\n",
    "def speeknow():\n",
    "    text = text_box.get(1.0,END)\n",
    "    gender= gender_voicebox.get()\n",
    "    speed=speedbox.get()\n",
    "    voices=tts.getProperty('voices')\n",
    "    \n",
    "    def setvoice():\n",
    "        if (gender=='Male'):\n",
    "            tts.setProperty('voice', voices[0].id)\n",
    "            tts.say(text)\n",
    "            tts.runAndWait()\n",
    "        else:\n",
    "            tts.setProperty('voice',voices[1].id)\n",
    "            tts.say(text)\n",
    "            tts.runAndWait()\n",
    "            \n",
    "    if (text):\n",
    "        if (speed=='Fast'):\n",
    "            tts.setProperty('rate',240)\n",
    "            setvoice()\n",
    "        elif(speed=='Medium'):\n",
    "            tts.setProperty('rate',140)\n",
    "            setvoice()\n",
    "        else:\n",
    "            tts.setProperty('rate',80)\n",
    "            setvoice()"
   ]
  },
  {
   "cell_type": "code",
   "execution_count": 4,
   "id": "4c1def29",
   "metadata": {},
   "outputs": [],
   "source": [
    "upper_frame = Frame(root,bg='#0C00BC',width=1200,height=125)\n",
    "upper_frame.place(x=0,y=0)"
   ]
  },
  {
   "cell_type": "code",
   "execution_count": 5,
   "id": "34f4d500",
   "metadata": {},
   "outputs": [],
   "source": [
    "tts_logo = PhotoImage(file=\"D:\\AA Projects\\TextToSpeech.png\")\n",
    "#Label(root, image=tts_logo, bg=\"black\").place(x=655, y=420)\n",
    "Label(root, image=tts_logo, bg=\"black\").place(x=0, y=0)\n"
   ]
  },
  {
   "cell_type": "code",
   "execution_count": 6,
   "id": "b1c22014",
   "metadata": {},
   "outputs": [],
   "source": [
    "Label(upper_frame,text=\"Text to Speech Converter\",font=\"TimesNewroman 40 bold\",bg='#0C00BC',fg='white').place(x=270,y=30)"
   ]
  },
  {
   "cell_type": "code",
   "execution_count": 7,
   "id": "d3b688e3",
   "metadata": {},
   "outputs": [],
   "source": [
    "text_box = Text(root, font = \"calibri 20 \", bg='white', relief= GROOVE, wrap= WORD, bd=0)\n",
    "text_box.place(x=30,y=150,width=940,height=120)"
   ]
  },
  {
   "cell_type": "code",
   "execution_count": 8,
   "id": "52f3c5d9",
   "metadata": {},
   "outputs": [],
   "source": [
    "gender_voicebox = Combobox(root,value=['Male','Female'],font='Robot 12', state='r',width=20)\n",
    "gender_voicebox.place(x=275,y=350)\n",
    "gender_voicebox.set('Select gender for speech')\n"
   ]
  },
  {
   "cell_type": "code",
   "execution_count": 9,
   "id": "83f86ca3",
   "metadata": {},
   "outputs": [],
   "source": [
    "speedbox = Combobox(root,value=['Fast','Medium','Slow'],font='Robot 12', state='r',width=20)\n",
    "speedbox.place(x=520,y=350)\n",
    "speedbox.set('Select speed for speech')"
   ]
  },
  {
   "cell_type": "code",
   "execution_count": null,
   "id": "b52e2a78",
   "metadata": {},
   "outputs": [],
   "source": [
    "play_button= PhotoImage(file=\"D:\\AA Projects\\PlayButton.png\")\n",
    "play_btn = Button(root,text=\" Play \",compound=\"left\",image=play_button,bg=\"white\",width=150,font=\"arial 14 bold\",borderwidth='0.5c',command=speeknow)\n",
    "play_btn.place(x=400,y=400)\n",
    "root.mainloop()"
   ]
  }
 ],
 "metadata": {
  "kernelspec": {
   "display_name": "Python 3 (ipykernel)",
   "language": "python",
   "name": "python3"
  },
  "language_info": {
   "codemirror_mode": {
    "name": "ipython",
    "version": 3
   },
   "file_extension": ".py",
   "mimetype": "text/x-python",
   "name": "python",
   "nbconvert_exporter": "python",
   "pygments_lexer": "ipython3",
   "version": "3.10.9"
  }
 },
 "nbformat": 4,
 "nbformat_minor": 5
}
